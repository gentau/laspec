{
 "cells": [
  {
   "metadata": {},
   "cell_type": "markdown",
   "source": "# tutorial1",
   "id": "45022389d4a58843"
  },
  {
   "metadata": {
    "ExecuteTime": {
     "end_time": "2024-12-02T12:46:46.075607Z",
     "start_time": "2024-12-02T12:46:46.073078Z"
    }
   },
   "cell_type": "code",
   "source": "print(1)",
   "id": "386821f207b3855e",
   "outputs": [
    {
     "name": "stdout",
     "output_type": "stream",
     "text": [
      "1\n"
     ]
    }
   ],
   "execution_count": 1
  },
  {
   "metadata": {},
   "cell_type": "code",
   "outputs": [],
   "execution_count": null,
   "source": "",
   "id": "91efad5860e3771"
  }
 ],
 "metadata": {
  "kernelspec": {
   "display_name": "Python 3",
   "language": "python",
   "name": "python3"
  },
  "language_info": {
   "codemirror_mode": {
    "name": "ipython",
    "version": 2
   },
   "file_extension": ".py",
   "mimetype": "text/x-python",
   "name": "python",
   "nbconvert_exporter": "python",
   "pygments_lexer": "ipython2",
   "version": "2.7.6"
  }
 },
 "nbformat": 4,
 "nbformat_minor": 5
}
