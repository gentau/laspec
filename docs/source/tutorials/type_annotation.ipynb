{
 "cells": [
  {
   "cell_type": "markdown",
   "id": "63584611-70c6-45e4-acfb-9bda5204fda0",
   "metadata": {},
   "source": [
    "# How to do Python type annotation"
   ]
  },
  {
   "cell_type": "markdown",
   "id": "7cc03b6e-5bc4-47e4-b42c-3a22eb11539b",
   "metadata": {},
   "source": [
    "## built-in types"
   ]
  },
  {
   "cell_type": "code",
   "execution_count": 1,
   "id": "bfaf414a-40f8-4830-8be4-65f43a03d513",
   "metadata": {},
   "outputs": [],
   "source": [
    "a: int = 8 # 整数型标注\n",
    "b: float = 1.23 # 浮点型标注\n",
    "c: bool = True # 布尔型标注\n",
    "d: tuple = (1, 2) # 元组型标注\n",
    "e: tuple[int, float] = (1, 2.34) # 限定类型和元素个数的元组标注\n",
    "f: tuple[int, ...] = (1, 2, 3, 4, 5) # 限定类型但不定元素个数的元组型标注\n",
    "g: list = [1, 2, 3] # 一般的列表型标注\n",
    "h: list[int] = [1, 2, 3] # 对列表型来说不需要标元素个数，但可以明确要求元素类型"
   ]
  },
  {
   "cell_type": "markdown",
   "id": "ba646556-0bfa-4a8f-8767-9d76e5c44592",
   "metadata": {},
   "source": [
    "## `typing` 模块\n",
    "对于一些内建类型来说是可以直接用内建类型来标注的，例如以下两句是相等的"
   ]
  },
  {
   "cell_type": "code",
   "execution_count": 2,
   "id": "8759dc5b-01e9-4583-ab27-114ea87315db",
   "metadata": {},
   "outputs": [],
   "source": [
    "l1: list[int] = [1, 2, 3]\n",
    "\n",
    "from typing import List\n",
    "l2: List[int] = [1, 2, 3]"
   ]
  },
  {
   "cell_type": "markdown",
   "id": "8f2203cb-8e94-406e-b445-809d04f85e26",
   "metadata": {},
   "source": [
    "## Union, Optional和Any\n",
    "\n",
    "- Union表示并集，Union[float, int]表示可以是float也可以是int\n",
    "- Optional表示可选，Optional[int]表示可以是None也可以是int\n",
    "- Any表示任意类型"
   ]
  },
  {
   "cell_type": "code",
   "execution_count": 3,
   "id": "3b323abd-7689-4abd-aa02-049b1de7bfcb",
   "metadata": {},
   "outputs": [],
   "source": [
    "from typing import Optional, Union\n",
    "\n",
    "x_optional: Optional[int] = None\n",
    "x_union: Union[float, int] = 1.23"
   ]
  },
  {
   "cell_type": "markdown",
   "id": "4906826b-2817-4a5b-b3ac-a993fa96b315",
   "metadata": {},
   "source": [
    "## numpy.typing\n",
    "我们经常会用到numpy.ndarray进行科学计算，可以有以下几种标注方式:\n",
    "\n",
    "1. 直接用np.ndarray进行标注, 此时不限定类型(dtype)"
   ]
  },
  {
   "cell_type": "code",
   "execution_count": 4,
   "id": "d93f8b14-5f88-4579-a671-1693d04ce144",
   "metadata": {},
   "outputs": [],
   "source": [
    "import numpy as np\n",
    "\n",
    "x1: np.ndarray = np.arange(10)"
   ]
  },
  {
   "cell_type": "code",
   "execution_count": 5,
   "id": "14b83562-b6c6-4873-8936-ad9d0c9c0e6f",
   "metadata": {},
   "outputs": [],
   "source": [
    "import numpy.typing as npt\n",
    "\n",
    "x2: npt.NDArray = np.arange(10, dtype=float)\n",
    "x3: npt.NDArray[np.int_] = np.arange(10, dtype=int)\n",
    "x4: npt.NDArray[np.float_] = np.arange(10, dtype=float)\n",
    "x5: npt.NDArray[np.float32] = np.arange(10, dtype=np.float32)\n",
    "x6: npt.NDArray[np.bool_] = np.ones(10, dtype=bool)\n",
    "x7: npt.NDArray[np.complex_] = np.ones(10, dtype=np.complex_)"
   ]
  },
  {
   "cell_type": "code",
   "execution_count": null,
   "id": "cc6abe41-f8a1-4c9d-8deb-ba7dad66780f",
   "metadata": {},
   "outputs": [],
   "source": []
  }
 ],
 "metadata": {
  "kernelspec": {
   "display_name": "Python 3 (ipykernel)",
   "language": "python",
   "name": "python3"
  },
  "language_info": {
   "codemirror_mode": {
    "name": "ipython",
    "version": 3
   },
   "file_extension": ".py",
   "mimetype": "text/x-python",
   "name": "python",
   "nbconvert_exporter": "python",
   "pygments_lexer": "ipython3",
   "version": "3.11.4"
  }
 },
 "nbformat": 4,
 "nbformat_minor": 5
}
